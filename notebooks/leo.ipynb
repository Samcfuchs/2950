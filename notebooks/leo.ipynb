{
 "cells": [
  {
   "cell_type": "code",
   "execution_count": 78,
   "metadata": {},
   "outputs": [
    {
     "name": "stdout",
     "output_type": "stream",
     "text": [
      "Requirement already satisfied: seaborn in /Applications/anaconda3/lib/python3.6/site-packages (0.8.1)\n",
      "Requirement already satisfied: as in /Applications/anaconda3/lib/python3.6/site-packages (0.1)\n",
      "Requirement already satisfied: sns in /Applications/anaconda3/lib/python3.6/site-packages (0.1)\n",
      "Requirement already satisfied: numpy in /Applications/anaconda3/lib/python3.6/site-packages (from seaborn) (1.14.3)\n",
      "Requirement already satisfied: scipy in /Applications/anaconda3/lib/python3.6/site-packages (from seaborn) (1.1.0)\n",
      "Requirement already satisfied: matplotlib in /Applications/anaconda3/lib/python3.6/site-packages (from seaborn) (2.2.2)\n",
      "Requirement already satisfied: pandas in /Applications/anaconda3/lib/python3.6/site-packages (from seaborn) (0.23.0)\n",
      "Requirement already satisfied: cycler>=0.10 in /Applications/anaconda3/lib/python3.6/site-packages (from matplotlib->seaborn) (0.10.0)\n",
      "Requirement already satisfied: pyparsing!=2.0.4,!=2.1.2,!=2.1.6,>=2.0.1 in /Applications/anaconda3/lib/python3.6/site-packages (from matplotlib->seaborn) (2.2.0)\n",
      "Requirement already satisfied: python-dateutil>=2.1 in /Applications/anaconda3/lib/python3.6/site-packages (from matplotlib->seaborn) (2.7.3)\n",
      "Requirement already satisfied: pytz in /Applications/anaconda3/lib/python3.6/site-packages (from matplotlib->seaborn) (2018.4)\n",
      "Requirement already satisfied: six>=1.10 in /Applications/anaconda3/lib/python3.6/site-packages (from matplotlib->seaborn) (1.11.0)\n",
      "Requirement already satisfied: kiwisolver>=1.0.1 in /Applications/anaconda3/lib/python3.6/site-packages (from matplotlib->seaborn) (1.0.1)\n",
      "Requirement already satisfied: setuptools in /Applications/anaconda3/lib/python3.6/site-packages (from kiwisolver>=1.0.1->matplotlib->seaborn) (40.2.0)\n",
      "\u001b[33mYou are using pip version 18.0, however version 20.1 is available.\n",
      "You should consider upgrading via the 'pip install --upgrade pip' command.\u001b[0m\n"
     ]
    }
   ],
   "source": [
    "import pandas as pd\n",
    "import numpy as np\n",
    "# import seaborn as sns\n",
    "import matplotlib.pyplot as plt\n",
    "import sys\n",
    "!{sys.executable} -m pip install seaborn as sns"
   ]
  },
  {
   "cell_type": "code",
   "execution_count": 79,
   "metadata": {},
   "outputs": [
    {
     "data": {
      "text/html": [
       "<div>\n",
       "<style scoped>\n",
       "    .dataframe tbody tr th:only-of-type {\n",
       "        vertical-align: middle;\n",
       "    }\n",
       "\n",
       "    .dataframe tbody tr th {\n",
       "        vertical-align: top;\n",
       "    }\n",
       "\n",
       "    .dataframe thead th {\n",
       "        text-align: right;\n",
       "    }\n",
       "</style>\n",
       "<table border=\"1\" class=\"dataframe\">\n",
       "  <thead>\n",
       "    <tr style=\"text-align: right;\">\n",
       "      <th></th>\n",
       "      <th>Player</th>\n",
       "      <th>G</th>\n",
       "      <th>GLS</th>\n",
       "      <th>GPG</th>\n",
       "      <th>AST</th>\n",
       "      <th>APG</th>\n",
       "      <th>BLK</th>\n",
       "      <th>BPG</th>\n",
       "      <th>+ / -</th>\n",
       "      <th>+/- PG</th>\n",
       "      <th>CMP</th>\n",
       "      <th>CPG</th>\n",
       "      <th>CMP %</th>\n",
       "      <th>PP</th>\n",
       "      <th>PPG</th>\n",
       "    </tr>\n",
       "  </thead>\n",
       "  <tbody>\n",
       "    <tr>\n",
       "      <th>0</th>\n",
       "      <td>Quentin Bonnaud</td>\n",
       "      <td>12</td>\n",
       "      <td>83</td>\n",
       "      <td>6.92</td>\n",
       "      <td>15</td>\n",
       "      <td>1.25</td>\n",
       "      <td>14</td>\n",
       "      <td>1.17</td>\n",
       "      <td>101</td>\n",
       "      <td>8.42</td>\n",
       "      <td>208</td>\n",
       "      <td>17.33</td>\n",
       "      <td>96.3</td>\n",
       "      <td>284</td>\n",
       "      <td>23.67</td>\n",
       "    </tr>\n",
       "    <tr>\n",
       "      <th>1</th>\n",
       "      <td>Rowan McDonnell</td>\n",
       "      <td>13</td>\n",
       "      <td>67</td>\n",
       "      <td>5.15</td>\n",
       "      <td>51</td>\n",
       "      <td>3.92</td>\n",
       "      <td>5</td>\n",
       "      <td>0.38</td>\n",
       "      <td>92</td>\n",
       "      <td>7.08</td>\n",
       "      <td>408</td>\n",
       "      <td>31.38</td>\n",
       "      <td>93.8</td>\n",
       "      <td>359</td>\n",
       "      <td>27.62</td>\n",
       "    </tr>\n",
       "    <tr>\n",
       "      <th>2</th>\n",
       "      <td>Ben Jagt</td>\n",
       "      <td>15</td>\n",
       "      <td>67</td>\n",
       "      <td>4.47</td>\n",
       "      <td>64</td>\n",
       "      <td>4.27</td>\n",
       "      <td>14</td>\n",
       "      <td>0.93</td>\n",
       "      <td>111</td>\n",
       "      <td>7.40</td>\n",
       "      <td>287</td>\n",
       "      <td>19.13</td>\n",
       "      <td>91.4</td>\n",
       "      <td>379</td>\n",
       "      <td>25.27</td>\n",
       "    </tr>\n",
       "    <tr>\n",
       "      <th>3</th>\n",
       "      <td>Max Sheppard</td>\n",
       "      <td>14</td>\n",
       "      <td>61</td>\n",
       "      <td>4.36</td>\n",
       "      <td>68</td>\n",
       "      <td>4.86</td>\n",
       "      <td>9</td>\n",
       "      <td>0.64</td>\n",
       "      <td>103</td>\n",
       "      <td>7.36</td>\n",
       "      <td>295</td>\n",
       "      <td>21.07</td>\n",
       "      <td>91.0</td>\n",
       "      <td>337</td>\n",
       "      <td>24.07</td>\n",
       "    </tr>\n",
       "    <tr>\n",
       "      <th>4</th>\n",
       "      <td>Eli Jaime</td>\n",
       "      <td>10</td>\n",
       "      <td>52</td>\n",
       "      <td>5.20</td>\n",
       "      <td>12</td>\n",
       "      <td>1.20</td>\n",
       "      <td>4</td>\n",
       "      <td>0.40</td>\n",
       "      <td>61</td>\n",
       "      <td>6.10</td>\n",
       "      <td>101</td>\n",
       "      <td>10.10</td>\n",
       "      <td>95.3</td>\n",
       "      <td>211</td>\n",
       "      <td>21.10</td>\n",
       "    </tr>\n",
       "  </tbody>\n",
       "</table>\n",
       "</div>"
      ],
      "text/plain": [
       "            Player   G  GLS   GPG  AST   APG  BLK   BPG  + / -  +/- PG  CMP  \\\n",
       "0  Quentin Bonnaud  12   83  6.92   15  1.25   14  1.17    101    8.42  208   \n",
       "1  Rowan McDonnell  13   67  5.15   51  3.92    5  0.38     92    7.08  408   \n",
       "2         Ben Jagt  15   67  4.47   64  4.27   14  0.93    111    7.40  287   \n",
       "3     Max Sheppard  14   61  4.36   68  4.86    9  0.64    103    7.36  295   \n",
       "4        Eli Jaime  10   52  5.20   12  1.20    4  0.40     61    6.10  101   \n",
       "\n",
       "     CPG  CMP %   PP    PPG  \n",
       "0  17.33   96.3  284  23.67  \n",
       "1  31.38   93.8  359  27.62  \n",
       "2  19.13   91.4  379  25.27  \n",
       "3  21.07   91.0  337  24.07  \n",
       "4  10.10   95.3  211  21.10  "
      ]
     },
     "execution_count": 79,
     "metadata": {},
     "output_type": "execute_result"
    }
   ],
   "source": [
    "player_stats = pd.read_csv(\"player_stats_data.csv\", index_col=0)\n",
    "player_stats.rename(columns={'PLAYER':'Player'}, inplace=True)\n",
    "player_stats.head()"
   ]
  },
  {
   "cell_type": "code",
   "execution_count": 143,
   "metadata": {},
   "outputs": [
    {
     "data": {
      "text/html": [
       "<div>\n",
       "<style scoped>\n",
       "    .dataframe tbody tr th:only-of-type {\n",
       "        vertical-align: middle;\n",
       "    }\n",
       "\n",
       "    .dataframe tbody tr th {\n",
       "        vertical-align: top;\n",
       "    }\n",
       "\n",
       "    .dataframe thead th {\n",
       "        text-align: right;\n",
       "    }\n",
       "</style>\n",
       "<table border=\"1\" class=\"dataframe\">\n",
       "  <thead>\n",
       "    <tr style=\"text-align: right;\">\n",
       "      <th></th>\n",
       "      <th>Team</th>\n",
       "      <th>G</th>\n",
       "      <th>W</th>\n",
       "      <th>L</th>\n",
       "      <th>T</th>\n",
       "      <th>PTS</th>\n",
       "      <th>PPG</th>\n",
       "      <th>PA</th>\n",
       "      <th>PAPG</th>\n",
       "      <th>OEFF</th>\n",
       "      <th>DEFF</th>\n",
       "      <th>+ / -</th>\n",
       "      <th>+/- PG</th>\n",
       "      <th>BLK</th>\n",
       "      <th>BPG</th>\n",
       "      <th>CMP</th>\n",
       "      <th>CPG</th>\n",
       "      <th>CMP %</th>\n",
       "      <th>TO</th>\n",
       "      <th>TPG</th>\n",
       "    </tr>\n",
       "  </thead>\n",
       "  <tbody>\n",
       "    <tr>\n",
       "      <th>0</th>\n",
       "      <td>New York Empire</td>\n",
       "      <td>15</td>\n",
       "      <td>15</td>\n",
       "      <td>0</td>\n",
       "      <td>0</td>\n",
       "      <td>334</td>\n",
       "      <td>22.27</td>\n",
       "      <td>282</td>\n",
       "      <td>18.80</td>\n",
       "      <td>0.48</td>\n",
       "      <td>-0.42</td>\n",
       "      <td>588</td>\n",
       "      <td>39.20</td>\n",
       "      <td>150</td>\n",
       "      <td>10.00</td>\n",
       "      <td>3,547</td>\n",
       "      <td>236.47</td>\n",
       "      <td>94.7</td>\n",
       "      <td>230</td>\n",
       "      <td>15.33</td>\n",
       "    </tr>\n",
       "    <tr>\n",
       "      <th>1</th>\n",
       "      <td>San Diego Growlers</td>\n",
       "      <td>14</td>\n",
       "      <td>11</td>\n",
       "      <td>3</td>\n",
       "      <td>0</td>\n",
       "      <td>328</td>\n",
       "      <td>23.43</td>\n",
       "      <td>292</td>\n",
       "      <td>20.86</td>\n",
       "      <td>0.46</td>\n",
       "      <td>-0.42</td>\n",
       "      <td>581</td>\n",
       "      <td>41.50</td>\n",
       "      <td>157</td>\n",
       "      <td>11.21</td>\n",
       "      <td>3,404</td>\n",
       "      <td>243.14</td>\n",
       "      <td>94.8</td>\n",
       "      <td>228</td>\n",
       "      <td>16.29</td>\n",
       "    </tr>\n",
       "    <tr>\n",
       "      <th>2</th>\n",
       "      <td>Raleigh Flyers</td>\n",
       "      <td>13</td>\n",
       "      <td>10</td>\n",
       "      <td>3</td>\n",
       "      <td>0</td>\n",
       "      <td>293</td>\n",
       "      <td>22.54</td>\n",
       "      <td>255</td>\n",
       "      <td>19.62</td>\n",
       "      <td>0.39</td>\n",
       "      <td>-0.36</td>\n",
       "      <td>514</td>\n",
       "      <td>39.54</td>\n",
       "      <td>124</td>\n",
       "      <td>9.54</td>\n",
       "      <td>3,197</td>\n",
       "      <td>245.92</td>\n",
       "      <td>95.0</td>\n",
       "      <td>192</td>\n",
       "      <td>14.77</td>\n",
       "    </tr>\n",
       "    <tr>\n",
       "      <th>3</th>\n",
       "      <td>Dallas Roughnecks</td>\n",
       "      <td>15</td>\n",
       "      <td>10</td>\n",
       "      <td>5</td>\n",
       "      <td>0</td>\n",
       "      <td>320</td>\n",
       "      <td>21.33</td>\n",
       "      <td>300</td>\n",
       "      <td>20.00</td>\n",
       "      <td>0.32</td>\n",
       "      <td>-0.41</td>\n",
       "      <td>550</td>\n",
       "      <td>36.67</td>\n",
       "      <td>202</td>\n",
       "      <td>13.47</td>\n",
       "      <td>3,640</td>\n",
       "      <td>242.67</td>\n",
       "      <td>93.7</td>\n",
       "      <td>290</td>\n",
       "      <td>19.33</td>\n",
       "    </tr>\n",
       "    <tr>\n",
       "      <th>4</th>\n",
       "      <td>Pittsburgh Thunderbirds</td>\n",
       "      <td>14</td>\n",
       "      <td>9</td>\n",
       "      <td>5</td>\n",
       "      <td>0</td>\n",
       "      <td>298</td>\n",
       "      <td>21.29</td>\n",
       "      <td>270</td>\n",
       "      <td>19.29</td>\n",
       "      <td>0.33</td>\n",
       "      <td>-0.41</td>\n",
       "      <td>487</td>\n",
       "      <td>34.79</td>\n",
       "      <td>141</td>\n",
       "      <td>10.07</td>\n",
       "      <td>3,551</td>\n",
       "      <td>253.64</td>\n",
       "      <td>94.5</td>\n",
       "      <td>249</td>\n",
       "      <td>17.79</td>\n",
       "    </tr>\n",
       "  </tbody>\n",
       "</table>\n",
       "</div>"
      ],
      "text/plain": [
       "                      Team   G   W  L  T  PTS    PPG   PA   PAPG  OEFF  DEFF  \\\n",
       "0          New York Empire  15  15  0  0  334  22.27  282  18.80  0.48 -0.42   \n",
       "1       San Diego Growlers  14  11  3  0  328  23.43  292  20.86  0.46 -0.42   \n",
       "2           Raleigh Flyers  13  10  3  0  293  22.54  255  19.62  0.39 -0.36   \n",
       "3        Dallas Roughnecks  15  10  5  0  320  21.33  300  20.00  0.32 -0.41   \n",
       "4  Pittsburgh Thunderbirds  14   9  5  0  298  21.29  270  19.29  0.33 -0.41   \n",
       "\n",
       "   + / -  +/- PG  BLK    BPG    CMP     CPG  CMP %   TO    TPG  \n",
       "0    588   39.20  150  10.00  3,547  236.47   94.7  230  15.33  \n",
       "1    581   41.50  157  11.21  3,404  243.14   94.8  228  16.29  \n",
       "2    514   39.54  124   9.54  3,197  245.92   95.0  192  14.77  \n",
       "3    550   36.67  202  13.47  3,640  242.67   93.7  290  19.33  \n",
       "4    487   34.79  141  10.07  3,551  253.64   94.5  249  17.79  "
      ]
     },
     "execution_count": 143,
     "metadata": {},
     "output_type": "execute_result"
    }
   ],
   "source": [
    "team_stats = pd.read_csv(\"team_stats.csv\", index_col=0)\n",
    "team_stats.head()"
   ]
  },
  {
   "cell_type": "code",
   "execution_count": 81,
   "metadata": {},
   "outputs": [
    {
     "data": {
      "text/html": [
       "<div>\n",
       "<style scoped>\n",
       "    .dataframe tbody tr th:only-of-type {\n",
       "        vertical-align: middle;\n",
       "    }\n",
       "\n",
       "    .dataframe tbody tr th {\n",
       "        vertical-align: top;\n",
       "    }\n",
       "\n",
       "    .dataframe thead th {\n",
       "        text-align: right;\n",
       "    }\n",
       "</style>\n",
       "<table border=\"1\" class=\"dataframe\">\n",
       "  <thead>\n",
       "    <tr style=\"text-align: right;\">\n",
       "      <th></th>\n",
       "      <th>Player</th>\n",
       "      <th>Team</th>\n",
       "    </tr>\n",
       "  </thead>\n",
       "  <tbody>\n",
       "    <tr>\n",
       "      <th>0</th>\n",
       "      <td>Sam Batson</td>\n",
       "      <td>hustle</td>\n",
       "    </tr>\n",
       "    <tr>\n",
       "      <th>1</th>\n",
       "      <td>Sun Choi</td>\n",
       "      <td>hustle</td>\n",
       "    </tr>\n",
       "    <tr>\n",
       "      <th>2</th>\n",
       "      <td>Karl Ekwurtzel</td>\n",
       "      <td>hustle</td>\n",
       "    </tr>\n",
       "    <tr>\n",
       "      <th>3</th>\n",
       "      <td>Brett Hulsmeyer</td>\n",
       "      <td>hustle</td>\n",
       "    </tr>\n",
       "    <tr>\n",
       "      <th>4</th>\n",
       "      <td>Elijah Jaime</td>\n",
       "      <td>hustle</td>\n",
       "    </tr>\n",
       "  </tbody>\n",
       "</table>\n",
       "</div>"
      ],
      "text/plain": [
       "            Player    Team\n",
       "0       Sam Batson  hustle\n",
       "1         Sun Choi  hustle\n",
       "2   Karl Ekwurtzel  hustle\n",
       "3  Brett Hulsmeyer  hustle\n",
       "4     Elijah Jaime  hustle"
      ]
     },
     "execution_count": 81,
     "metadata": {},
     "output_type": "execute_result"
    }
   ],
   "source": [
    "rosters = pd.read_csv(\"rosters.csv\", index_col=0)\n",
    "rosters.head()"
   ]
  },
  {
   "cell_type": "code",
   "execution_count": 82,
   "metadata": {},
   "outputs": [
    {
     "data": {
      "text/html": [
       "<div>\n",
       "<style scoped>\n",
       "    .dataframe tbody tr th:only-of-type {\n",
       "        vertical-align: middle;\n",
       "    }\n",
       "\n",
       "    .dataframe tbody tr th {\n",
       "        vertical-align: top;\n",
       "    }\n",
       "\n",
       "    .dataframe thead th {\n",
       "        text-align: right;\n",
       "    }\n",
       "</style>\n",
       "<table border=\"1\" class=\"dataframe\">\n",
       "  <thead>\n",
       "    <tr style=\"text-align: right;\">\n",
       "      <th></th>\n",
       "      <th>Player</th>\n",
       "      <th>Team</th>\n",
       "      <th>G</th>\n",
       "      <th>GLS</th>\n",
       "      <th>GPG</th>\n",
       "      <th>AST</th>\n",
       "      <th>APG</th>\n",
       "      <th>BLK</th>\n",
       "      <th>BPG</th>\n",
       "      <th>+ / -</th>\n",
       "      <th>+/- PG</th>\n",
       "      <th>CMP</th>\n",
       "      <th>CPG</th>\n",
       "      <th>CMP %</th>\n",
       "      <th>PP</th>\n",
       "      <th>PPG</th>\n",
       "    </tr>\n",
       "  </thead>\n",
       "  <tbody>\n",
       "    <tr>\n",
       "      <th>0</th>\n",
       "      <td>Sam Batson</td>\n",
       "      <td>hustle</td>\n",
       "      <td>8</td>\n",
       "      <td>0</td>\n",
       "      <td>0.00</td>\n",
       "      <td>4</td>\n",
       "      <td>0.50</td>\n",
       "      <td>3</td>\n",
       "      <td>0.38</td>\n",
       "      <td>4</td>\n",
       "      <td>0.50</td>\n",
       "      <td>24</td>\n",
       "      <td>3.00</td>\n",
       "      <td>88.9</td>\n",
       "      <td>67</td>\n",
       "      <td>8.38</td>\n",
       "    </tr>\n",
       "    <tr>\n",
       "      <th>1</th>\n",
       "      <td>Sun Choi</td>\n",
       "      <td>hustle</td>\n",
       "      <td>10</td>\n",
       "      <td>2</td>\n",
       "      <td>0.20</td>\n",
       "      <td>10</td>\n",
       "      <td>1.00</td>\n",
       "      <td>3</td>\n",
       "      <td>0.30</td>\n",
       "      <td>6</td>\n",
       "      <td>0.60</td>\n",
       "      <td>90</td>\n",
       "      <td>9.00</td>\n",
       "      <td>90.9</td>\n",
       "      <td>132</td>\n",
       "      <td>13.20</td>\n",
       "    </tr>\n",
       "    <tr>\n",
       "      <th>2</th>\n",
       "      <td>Karl Ekwurtzel</td>\n",
       "      <td>hustle</td>\n",
       "      <td>9</td>\n",
       "      <td>4</td>\n",
       "      <td>0.44</td>\n",
       "      <td>1</td>\n",
       "      <td>0.11</td>\n",
       "      <td>4</td>\n",
       "      <td>0.44</td>\n",
       "      <td>2</td>\n",
       "      <td>0.22</td>\n",
       "      <td>44</td>\n",
       "      <td>4.89</td>\n",
       "      <td>86.3</td>\n",
       "      <td>121</td>\n",
       "      <td>13.44</td>\n",
       "    </tr>\n",
       "    <tr>\n",
       "      <th>3</th>\n",
       "      <td>Brett Hulsmeyer</td>\n",
       "      <td>hustle</td>\n",
       "      <td>10</td>\n",
       "      <td>8</td>\n",
       "      <td>0.80</td>\n",
       "      <td>1</td>\n",
       "      <td>0.10</td>\n",
       "      <td>12</td>\n",
       "      <td>1.20</td>\n",
       "      <td>18</td>\n",
       "      <td>1.80</td>\n",
       "      <td>38</td>\n",
       "      <td>3.80</td>\n",
       "      <td>92.7</td>\n",
       "      <td>179</td>\n",
       "      <td>17.90</td>\n",
       "    </tr>\n",
       "    <tr>\n",
       "      <th>4</th>\n",
       "      <td>Matthew Knowles</td>\n",
       "      <td>hustle</td>\n",
       "      <td>7</td>\n",
       "      <td>0</td>\n",
       "      <td>0.00</td>\n",
       "      <td>13</td>\n",
       "      <td>1.86</td>\n",
       "      <td>0</td>\n",
       "      <td>0.00</td>\n",
       "      <td>7</td>\n",
       "      <td>1.00</td>\n",
       "      <td>117</td>\n",
       "      <td>16.71</td>\n",
       "      <td>95.1</td>\n",
       "      <td>108</td>\n",
       "      <td>15.43</td>\n",
       "    </tr>\n",
       "  </tbody>\n",
       "</table>\n",
       "</div>"
      ],
      "text/plain": [
       "            Player    Team   G  GLS   GPG  AST   APG  BLK   BPG  + / -  \\\n",
       "0       Sam Batson  hustle   8    0  0.00    4  0.50    3  0.38      4   \n",
       "1         Sun Choi  hustle  10    2  0.20   10  1.00    3  0.30      6   \n",
       "2   Karl Ekwurtzel  hustle   9    4  0.44    1  0.11    4  0.44      2   \n",
       "3  Brett Hulsmeyer  hustle  10    8  0.80    1  0.10   12  1.20     18   \n",
       "4  Matthew Knowles  hustle   7    0  0.00   13  1.86    0  0.00      7   \n",
       "\n",
       "   +/- PG  CMP    CPG  CMP %   PP    PPG  \n",
       "0    0.50   24   3.00   88.9   67   8.38  \n",
       "1    0.60   90   9.00   90.9  132  13.20  \n",
       "2    0.22   44   4.89   86.3  121  13.44  \n",
       "3    1.80   38   3.80   92.7  179  17.90  \n",
       "4    1.00  117  16.71   95.1  108  15.43  "
      ]
     },
     "execution_count": 82,
     "metadata": {},
     "output_type": "execute_result"
    }
   ],
   "source": [
    "data = rosters.merge(player_stats, left_on='Player', right_on='Player')\n",
    "data.drop_duplicates(inplace=True)\n",
    "data.head()"
   ]
  },
  {
   "cell_type": "code",
   "execution_count": 83,
   "metadata": {},
   "outputs": [],
   "source": [
    "from sklearn.linear_model import LinearRegression"
   ]
  },
  {
   "cell_type": "code",
   "execution_count": 84,
   "metadata": {},
   "outputs": [
    {
     "name": "stdout",
     "output_type": "stream",
     "text": [
      "comparing APG and BPG\n",
      "0.0993516545055858\n"
     ]
    },
    {
     "data": {
      "image/png": "[encoded data removed]",
      "text/plain": [
       "<Figure size 432x288 with 1 Axes>"
      ]
     },
     "metadata": {},
     "output_type": "display_data"
    },
    {
     "name": "stdout",
     "output_type": "stream",
     "text": [
      "comparing total assists and blocks\n",
      "0.27818694520947446\n"
     ]
    },
    {
     "data": {
      "image/png": "[encoded data removed]",
      "text/plain": [
       "<Figure size 432x288 with 1 Axes>"
      ]
     },
     "metadata": {},
     "output_type": "display_data"
    }
   ],
   "source": [
    "print('comparing APG and BPG')\n",
    "print(np.corrcoef(data['APG'], data['BPG'])[0][1])\n",
    "plt.scatter(data['APG'], data['BPG'])\n",
    "plt.show()\n",
    "print('comparing total assists and blocks')\n",
    "print(np.corrcoef(data['AST'], data['BLK'])[0][1])\n",
    "plt.scatter(data['AST'], data['BLK'])\n",
    "plt.show()"
   ]
  },
  {
   "cell_type": "code",
   "execution_count": 85,
   "metadata": {},
   "outputs": [
    {
     "name": "stdout",
     "output_type": "stream",
     "text": [
      "assists and blocks. slope: 0.09873211752321828 intercept: 3.481292273008372\n"
     ]
    }
   ],
   "source": [
    "ast_blk_model = LinearRegression()\n",
    "ast_blk_model.fit(data[['AST']], data['BLK'])\n",
    "print('assists and blocks.','slope:',ast_blk_model.coef_[0],'intercept:', ast_blk_model.intercept_)"
   ]
  },
  {
   "cell_type": "code",
   "execution_count": 86,
   "metadata": {},
   "outputs": [
    {
     "name": "stdout",
     "output_type": "stream",
     "text": [
      "assists per game and blocks per game. slope: 0.039896996496095245 intercept: 0.45488145335483965\n"
     ]
    }
   ],
   "source": [
    "apg_bpg_model = LinearRegression()\n",
    "apg_bpg_model.fit(data[['APG']], data['BPG'])\n",
    "print('assists per game and blocks per game.','slope:',apg_bpg_model.coef_[0],'intercept:', apg_bpg_model.intercept_)"
   ]
  },
  {
   "cell_type": "code",
   "execution_count": 87,
   "metadata": {},
   "outputs": [
    {
     "name": "stdout",
     "output_type": "stream",
     "text": [
      "goals per game and blocks per game\n",
      "0.17893315388829215\n"
     ]
    },
    {
     "data": {
      "image/png": "[encoded data removed]",
      "text/plain": [
       "<Figure size 432x288 with 1 Axes>"
      ]
     },
     "metadata": {},
     "output_type": "display_data"
    },
    {
     "name": "stdout",
     "output_type": "stream",
     "text": [
      "goals and blocks\n",
      "0.3308606494558494\n"
     ]
    },
    {
     "data": {
      "image/png": "[encoded data removed]",
      "text/plain": [
       "<Figure size 432x288 with 1 Axes>"
      ]
     },
     "metadata": {},
     "output_type": "display_data"
    }
   ],
   "source": [
    "print('goals per game and blocks per game')\n",
    "print(np.corrcoef(data['GPG'], data['BPG'])[0][1])\n",
    "plt.scatter(data['GPG'], data['BPG'])\n",
    "plt.show()\n",
    "print('goals and blocks')\n",
    "print(np.corrcoef(data['GLS'], data['BLK'])[0][1])\n",
    "plt.scatter(data['GLS'], data['BLK'])\n",
    "plt.show()"
   ]
  },
  {
   "cell_type": "code",
   "execution_count": 88,
   "metadata": {},
   "outputs": [
    {
     "name": "stdout",
     "output_type": "stream",
     "text": [
      "goals per game and blocks per game. slope: 0.08029050819657213 intercept: 0.41676621266429814\n"
     ]
    }
   ],
   "source": [
    "gpg_bpg_model = LinearRegression()\n",
    "gpg_bpg_model.fit(data[['GPG']], data['BPG'])\n",
    "print('goals per game and blocks per game.','slope:',gpg_bpg_model.coef_[0],'intercept:', gpg_bpg_model.intercept_)"
   ]
  },
  {
   "cell_type": "code",
   "execution_count": 89,
   "metadata": {},
   "outputs": [
    {
     "name": "stdout",
     "output_type": "stream",
     "text": [
      "goals and blocks. slope: 0.13230847952242464 intercept: 3.192531558413319\n"
     ]
    }
   ],
   "source": [
    "gls_blk_model = LinearRegression()\n",
    "gls_blk_model.fit(data[['GLS']], data['BLK'])\n",
    "print('goals and blocks.','slope:',gls_blk_model.coef_[0],'intercept:', gls_blk_model.intercept_)"
   ]
  },
  {
   "cell_type": "code",
   "execution_count": 150,
   "metadata": {},
   "outputs": [
    {
     "name": "stdout",
     "output_type": "stream",
     "text": [
      "553\n",
      "141\n"
     ]
    }
   ],
   "source": [
    "filtered_data = data.loc[data['PP'] > 200]\n",
    "print(len(data.index))\n",
    "print(len(filtered_data.index))"
   ]
  },
  {
   "cell_type": "code",
   "execution_count": 91,
   "metadata": {},
   "outputs": [
    {
     "name": "stdout",
     "output_type": "stream",
     "text": [
      "goals and blocks with more than 200 points played -0.025042656235391342\n"
     ]
    },
    {
     "data": {
      "image/png": "[encoded data removed]",
      "text/plain": [
       "<Figure size 432x288 with 1 Axes>"
      ]
     },
     "metadata": {},
     "output_type": "display_data"
    },
    {
     "name": "stdout",
     "output_type": "stream",
     "text": [
      "assists and blocks with more than 200 points played -0.11100010535819885\n"
     ]
    },
    {
     "data": {
      "image/png": "[encoded data removed]",
      "text/plain": [
       "<Figure size 432x288 with 1 Axes>"
      ]
     },
     "metadata": {},
     "output_type": "display_data"
    }
   ],
   "source": [
    "print('goals and blocks with more than 200 points played',np.corrcoef(filtered_data['GLS'], filtered_data['BLK'])[0][1])\n",
    "plt.scatter(filtered_data['GLS'], filtered_data['BLK'])\n",
    "plt.show()\n",
    "print('assists and blocks with more than 200 points played',np.corrcoef(filtered_data['AST'], filtered_data['BLK'])[0][1])\n",
    "plt.scatter(filtered_data['AST'], filtered_data['BLK'])\n",
    "plt.show()"
   ]
  },
  {
   "cell_type": "code",
   "execution_count": 152,
   "metadata": {},
   "outputs": [
    {
     "name": "stdout",
     "output_type": "stream",
     "text": [
      "goals and blocks with less than 200 points played 0.22699293980663593\n"
     ]
    },
    {
     "data": {
      "image/png": "[encoded data removed]",
      "text/plain": [
       "<Figure size 432x288 with 1 Axes>"
      ]
     },
     "metadata": {},
     "output_type": "display_data"
    },
    {
     "name": "stdout",
     "output_type": "stream",
     "text": [
      "assists and blocks with less than 200 points played 0.10529842067810444\n"
     ]
    },
    {
     "data": {
      "image/png": "[encoded data removed]",
      "text/plain": [
       "<Figure size 432x288 with 1 Axes>"
      ]
     },
     "metadata": {},
     "output_type": "display_data"
    }
   ],
   "source": [
    "less_than_200_data = data.loc[data['PP'] < 200]\n",
    "print('goals and blocks with less than 200 points played',np.corrcoef(less_than_200_data['GLS'], less_than_200_data['BLK'])[0][1])\n",
    "plt.scatter(less_than_200_data['GLS'], less_than_200_data['BLK'])\n",
    "plt.show()\n",
    "print('assists and blocks with less than 200 points played',np.corrcoef(less_than_200_data['AST'], less_than_200_data['BLK'])[0][1])\n",
    "plt.scatter(less_than_200_data['AST'], less_than_200_data['BLK'])\n",
    "plt.show()"
   ]
  },
  {
   "cell_type": "code",
   "execution_count": 92,
   "metadata": {},
   "outputs": [
    {
     "name": "stdout",
     "output_type": "stream",
     "text": [
      "{'empire': ['Ben Jagt', 'Conor Kline', 'Jeff Babbitt'], 'thunderbirds': ['Max Sheppard', 'Thomas Edmonds', 'Jimmy Towle'], 'royal': ['Quentin Bonnaud', 'Kevin Quinlan', 'Sacha Poitte- Sokolsky'], 'growlers': ['Travis Dunn', 'Jonathan Helton', 'Sean Ham'], 'aviators': ['Sean McDougall', 'Joc Jimenez', 'Danny Landesman'], 'wildfire': ['Pawel Janas', 'Drew Swanson', 'Jack Shanahan'], 'roughnecks': ['Carson Wilder', 'Abe Coffin', 'Jay Froude'], 'flyers': ['Jacob Fairfax', 'Henry Fisher', 'Terrence Mitchell'], 'alleycats': ['Rick Gross', 'Keegan North', 'Levi Jacobs'], 'cascades': ['Jay Boychuk', 'Khalif El-Salaam', 'Zach Sabin'], 'rush': ['Cameron Harris', 'Nathan Hirst', 'Andrew Carroll'], 'windchill': ['Bryan Vohnoutka', 'Quinn Snider', 'Josh Klane'], 'outlaws': ['Alec Arsenault', 'Karl Loiseau', 'Jeremy Hill'], 'cannons': ['Bradley Seuntjens', 'Andrew Roney', 'Tanner Repasky'], 'hustle': ['Matt Smith', 'Christian Olsen', 'Will Lindquist'], 'spiders': ['Keenan Laurence', 'Lior Givol', 'Munis Thahir'], 'phoenix': ['Sean Mott', 'Himalaya Mehta', 'Mike Arcata'], 'sol': ['Kyle Henke', 'Mick Walter', 'Andrew Walch'], 'breeze': ['Jarrod Banks', 'Max Cassell', 'Garrett Braun'], 'radicals': ['Sterling Knoche', 'Kevin Pettit-Scantling', 'Colin Camp'], 'mechanix': ['Andrew Sjogren', 'Mark Whitton', 'Kevin Coulter']}\n",
      "{'empire': 229, 'thunderbirds': 196, 'royal': 186, 'growlers': 190, 'aviators': 170, 'wildfire': 150, 'roughnecks': 183, 'flyers': 167, 'alleycats': 152, 'cascades': 140, 'rush': 146, 'windchill': 127, 'outlaws': 133, 'cannons': 122, 'hustle': 123, 'spiders': 110, 'phoenix': 114, 'sol': 98, 'breeze': 109, 'radicals': 111, 'mechanix': 85}\n"
     ]
    }
   ],
   "source": [
    "data.rename(columns={'+ / -':'plus_minus'}, inplace=True)\n",
    "data.sort_values(by=['plus_minus'], inplace=True, ascending = False)\n",
    "teams_names = {}\n",
    "teams_pmt = {}\n",
    "data.head()\n",
    "for team_name in data.Team.unique():\n",
    "    team_leaders_list = []\n",
    "    plus_minus_total = 0\n",
    "    temp_df = data.loc[data['Team'] == team_name]\n",
    "    for x in range(0,3):\n",
    "        entry = temp_df.iloc[x]\n",
    "        team_leaders_list.append(entry['Player'])\n",
    "        plus_minus_total += entry['plus_minus']\n",
    "    teams_pmt[team_name] = plus_minus_total\n",
    "    team_leaders[team_name] = team_leaders_list\n",
    "print(team_leaders)\n",
    "print(teams_pmt)\n"
   ]
  },
  {
   "cell_type": "code",
   "execution_count": 144,
   "metadata": {},
   "outputs": [],
   "source": [
    "# team_stats.assign(top_three_pm = np.zeros(len(team_stats.index)))\n",
    "# team_stats.insert(3, \"top_three_pm\", np.zeros(len(team_stats.index)), True)\n",
    "pm_list = []\n",
    "for team in team_stats['Team']:\n",
    "    words = team.split()\n",
    "    team_stats.replace(to_replace=team, value=words[-1].lower(), inplace=True)\n",
    "team_stats.replace(to_replace='chill', value='windchill', inplace=True)\n",
    "for team in team_stats['Team']:\n",
    "    pm_list.append(teams_pmt[team])\n",
    "team_stats.insert(3, \"top_three_pm\", pm_list, True)"
   ]
  },
  {
   "cell_type": "code",
   "execution_count": 146,
   "metadata": {},
   "outputs": [
    {
     "name": "stdout",
     "output_type": "stream",
     "text": [
      "comparing Wins and the combined plus minus of each team's best three players\n",
      "0.7999786670982608\n"
     ]
    },
    {
     "data": {
      "image/png": "[encoded data removed]",
      "text/plain": [
       "<Figure size 432x288 with 1 Axes>"
      ]
     },
     "metadata": {},
     "output_type": "display_data"
    }
   ],
   "source": [
    "print('comparing Wins and the combined plus minus of each team\\'s best three players')\n",
    "print(np.corrcoef(team_stats['top_three_pm'], team_stats['W'])[0][1])\n",
    "plt.scatter(team_stats['top_three_pm'], team_stats['W'])\n",
    "plt.show()\n",
    "# pm_w_model = LinearRegression()\n",
    "# pm_w_model.fit(team_stats[['top_three_pm']], team_stats['W'])\n",
    "# print('goals and blocks.','slope:',pm_w_model.coef_[0],'intercept:', pm_w_model.intercept_)"
   ]
  },
  {
   "cell_type": "code",
   "execution_count": 147,
   "metadata": {},
   "outputs": [
    {
     "name": "stdout",
     "output_type": "stream",
     "text": [
      "            Team   G   W  top_three_pm   L  T  PTS    PPG   PA   PAPG  ...    \\\n",
      "0         empire  15  15           229   0  0  334  22.27  282  18.80  ...     \n",
      "4   thunderbirds  14   9           196   5  0  298  21.29  270  19.29  ...     \n",
      "1       growlers  14  11           190   3  0  328  23.43  292  20.86  ...     \n",
      "14         royal  12   4           186   8  0  238  19.83  253  21.08  ...     \n",
      "3     roughnecks  15  10           183   5  0  320  21.33  300  20.00  ...     \n",
      "6       aviators  13   9           170   4  0  306  23.54  267  20.54  ...     \n",
      "2         flyers  13  10           167   3  0  293  22.54  255  19.62  ...     \n",
      "5      alleycats  14   9           152   5  0  280  20.00  270  19.29  ...     \n",
      "8       wildfire  13   7           150   6  0  271  20.85  257  19.77  ...     \n",
      "7           rush  14   8           146   6  0  293  20.93  271  19.36  ...     \n",
      "19      cascades  12   2           140  10  0  263  21.92  306  25.50  ...     \n",
      "18       outlaws  12   3           133   9  0  228  19.00  265  22.08  ...     \n",
      "11     windchill  12   6           127   6  0  261  21.75  252  21.00  ...     \n",
      "12        hustle  12   5           123   7  0  246  20.50  243  20.25  ...     \n",
      "15       cannons  12   4           122   8  0  232  19.33  263  21.92  ...     \n",
      "13       phoenix  12   4           114   8  0  222  18.50  249  20.75  ...     \n",
      "10      radicals  12   6           111   6  0  250  20.83  222  18.50  ...     \n",
      "16       spiders  12   3           110   9  0  264  22.00  301  25.08  ...     \n",
      "9         breeze  13   7           109   6  0  281  21.62  262  20.15  ...     \n",
      "17           sol  12   3            98   9  0  229  19.08  254  21.17  ...     \n",
      "20      mechanix  12   0            85  12  0  174  14.50  277  23.08  ...     \n",
      "\n",
      "    DEFF  + / -  +/- PG  BLK    BPG    CMP     CPG  CMP %   TO    TPG  \n",
      "0  -0.42    588   39.20  150  10.00  3,547  236.47   94.7  230  15.33  \n",
      "4  -0.41    487   34.79  141  10.07  3,551  253.64   94.5  249  17.79  \n",
      "1  -0.42    581   41.50  157  11.21  3,404  243.14   94.8  228  16.29  \n",
      "14 -0.53    368   30.67  114   9.50  3,036  253.00   94.1  222  18.50  \n",
      "3  -0.41    550   36.67  202  13.47  3,640  242.67   93.7  290  19.33  \n",
      "6  -0.40    540   41.54  148  11.38  2,847  219.00   94.4  207  15.92  \n",
      "2  -0.36    514   39.54  124   9.54  3,197  245.92   95.0  192  14.77  \n",
      "5  -0.50    450   32.14  138   9.86  3,550  253.57   94.5  245  17.50  \n",
      "8  -0.40    446   34.31  132  10.15  3,128  240.62   94.4  227  17.46  \n",
      "7  -0.42    460   32.86  154  11.00  3,240  231.43   93.4  277  19.79  \n",
      "19 -0.62    376   31.33   99   8.25  3,232  269.33   93.8  246  20.50  \n",
      "18 -0.54    289   24.08  129  10.75  2,555  212.92   92.0  288  24.00  \n",
      "11 -0.47    409   34.08  140  11.67  2,777  231.42   92.8  253  21.08  \n",
      "12 -0.49    405   33.75   97   8.08  2,637  219.75   94.3  183  15.25  \n",
      "15 -0.53    298   24.83  104   8.67  3,049  254.08   93.3  261  21.75  \n",
      "13 -0.53    284   23.67  125  10.42  2,625  218.75   91.6  286  23.83  \n",
      "10 -0.31    432   36.00  152  12.67  2,718  226.50   94.2  212  17.67  \n",
      "16 -0.55    393   32.75   98   8.17  2,972  247.67   94.1  227  18.92  \n",
      "9  -0.48    472   36.31  139  10.69  3,223  247.92   94.9  226  17.38  \n",
      "17 -0.48    280   23.33  102   8.50  2,768  230.67   92.5  276  23.00  \n",
      "20 -0.69    130   10.83   93   7.75  2,450  204.17   91.0  277  23.08  \n",
      "\n",
      "[21 rows x 21 columns]\n"
     ]
    }
   ],
   "source": [
    "team_stats.sort_values(by=['top_three_pm'], inplace=True, ascending = False)\n",
    "print(team_stats)"
   ]
  },
  {
   "cell_type": "code",
   "execution_count": null,
   "metadata": {},
   "outputs": [],
   "source": []
  }
 ],
 "metadata": {
  "kernelspec": {
   "display_name": "Python 3",
   "language": "python",
   "name": "python3"
  },
  "language_info": {
   "codemirror_mode": {
    "name": "ipython",
    "version": 3
   },
   "file_extension": ".py",
   "mimetype": "text/x-python",
   "name": "python",
   "nbconvert_exporter": "python",
   "pygments_lexer": "ipython3",
   "version": "3.6.8"
  }
 },
 "nbformat": 4,
 "nbformat_minor": 2
}
