{
 "cells": [
  {
   "cell_type": "code",
   "execution_count": 1,
   "metadata": {},
   "outputs": [
    {
     "name": "stdout",
     "output_type": "stream",
     "text": [
      "Requirement already satisfied: seaborn in /Applications/anaconda3/lib/python3.6/site-packages (0.8.1)\n",
      "Collecting as\n",
      "  Using cached https://files.pythonhosted.org/packages/b4/08/226c133ec497d25a63edb38527c02db093c7d89e6d4cdc91078834486a5d/as-0.1-py3-none-any.whl\n",
      "Collecting sns\n",
      "  Using cached https://files.pythonhosted.org/packages/58/80/d5a2a12fae635474014e7e0c88959daab3bf815648250fbb7639dd02fe50/sns-0.1.tar.gz\n",
      "Requirement already satisfied: numpy in /Applications/anaconda3/lib/python3.6/site-packages (from seaborn) (1.14.3)\n",
      "Requirement already satisfied: scipy in /Applications/anaconda3/lib/python3.6/site-packages (from seaborn) (1.1.0)\n",
      "Requirement already satisfied: matplotlib in /Applications/anaconda3/lib/python3.6/site-packages (from seaborn) (2.2.2)\n",
      "Requirement already satisfied: pandas in /Applications/anaconda3/lib/python3.6/site-packages (from seaborn) (0.23.0)\n",
      "Requirement already satisfied: cycler>=0.10 in /Applications/anaconda3/lib/python3.6/site-packages (from matplotlib->seaborn) (0.10.0)\n",
      "Requirement already satisfied: pyparsing!=2.0.4,!=2.1.2,!=2.1.6,>=2.0.1 in /Applications/anaconda3/lib/python3.6/site-packages (from matplotlib->seaborn) (2.2.0)\n",
      "Requirement already satisfied: python-dateutil>=2.1 in /Applications/anaconda3/lib/python3.6/site-packages (from matplotlib->seaborn) (2.7.3)\n",
      "Requirement already satisfied: pytz in /Applications/anaconda3/lib/python3.6/site-packages (from matplotlib->seaborn) (2018.4)\n",
      "Requirement already satisfied: six>=1.10 in /Applications/anaconda3/lib/python3.6/site-packages (from matplotlib->seaborn) (1.11.0)\n",
      "Requirement already satisfied: kiwisolver>=1.0.1 in /Applications/anaconda3/lib/python3.6/site-packages (from matplotlib->seaborn) (1.0.1)\n",
      "Requirement already satisfied: setuptools in /Applications/anaconda3/lib/python3.6/site-packages (from kiwisolver>=1.0.1->matplotlib->seaborn) (40.2.0)\n",
      "Building wheels for collected packages: sns\n",
      "  Running setup.py bdist_wheel for sns ... \u001b[?25ldone\n",
      "\u001b[?25h  Stored in directory: /Users/LeoDecter/Library/Caches/pip/wheels/be/a5/d8/4390400ed430c8186a6af96dbb1cc7d0a00a5dee15d268b627\n",
      "Successfully built sns\n",
      "Installing collected packages: as, sns\n",
      "Successfully installed as-0.1 sns-0.1\n",
      "\u001b[33mYou are using pip version 18.0, however version 20.1 is available.\n",
      "You should consider upgrading via the 'pip install --upgrade pip' command.\u001b[0m\n"
     ]
    }
   ],
   "source": [
    "import pandas as pd\n",
    "import numpy as np\n",
    "# import seaborn as sns\n",
    "import matplotlib.pyplot as plt\n",
    "import sys\n",
    "!{sys.executable} -m pip install seaborn as sns"
   ]
  },
  {
   "cell_type": "code",
   "execution_count": 5,
   "metadata": {},
   "outputs": [
    {
     "data": {
      "text/html": [
       "<div>\n",
       "<style scoped>\n",
       "    .dataframe tbody tr th:only-of-type {\n",
       "        vertical-align: middle;\n",
       "    }\n",
       "\n",
       "    .dataframe tbody tr th {\n",
       "        vertical-align: top;\n",
       "    }\n",
       "\n",
       "    .dataframe thead th {\n",
       "        text-align: right;\n",
       "    }\n",
       "</style>\n",
       "<table border=\"1\" class=\"dataframe\">\n",
       "  <thead>\n",
       "    <tr style=\"text-align: right;\">\n",
       "      <th></th>\n",
       "      <th>Player</th>\n",
       "      <th>G</th>\n",
       "      <th>GLS</th>\n",
       "      <th>GPG</th>\n",
       "      <th>AST</th>\n",
       "      <th>APG</th>\n",
       "      <th>BLK</th>\n",
       "      <th>BPG</th>\n",
       "      <th>+ / -</th>\n",
       "      <th>+/- PG</th>\n",
       "      <th>CMP</th>\n",
       "      <th>CPG</th>\n",
       "      <th>CMP %</th>\n",
       "      <th>PP</th>\n",
       "      <th>PPG</th>\n",
       "    </tr>\n",
       "  </thead>\n",
       "  <tbody>\n",
       "    <tr>\n",
       "      <th>0</th>\n",
       "      <td>Quentin Bonnaud</td>\n",
       "      <td>12</td>\n",
       "      <td>83</td>\n",
       "      <td>6.92</td>\n",
       "      <td>15</td>\n",
       "      <td>1.25</td>\n",
       "      <td>14</td>\n",
       "      <td>1.17</td>\n",
       "      <td>101</td>\n",
       "      <td>8.42</td>\n",
       "      <td>208</td>\n",
       "      <td>17.33</td>\n",
       "      <td>96.3</td>\n",
       "      <td>284</td>\n",
       "      <td>23.67</td>\n",
       "    </tr>\n",
       "    <tr>\n",
       "      <th>1</th>\n",
       "      <td>Rowan McDonnell</td>\n",
       "      <td>13</td>\n",
       "      <td>67</td>\n",
       "      <td>5.15</td>\n",
       "      <td>51</td>\n",
       "      <td>3.92</td>\n",
       "      <td>5</td>\n",
       "      <td>0.38</td>\n",
       "      <td>92</td>\n",
       "      <td>7.08</td>\n",
       "      <td>408</td>\n",
       "      <td>31.38</td>\n",
       "      <td>93.8</td>\n",
       "      <td>359</td>\n",
       "      <td>27.62</td>\n",
       "    </tr>\n",
       "    <tr>\n",
       "      <th>2</th>\n",
       "      <td>Ben Jagt</td>\n",
       "      <td>15</td>\n",
       "      <td>67</td>\n",
       "      <td>4.47</td>\n",
       "      <td>64</td>\n",
       "      <td>4.27</td>\n",
       "      <td>14</td>\n",
       "      <td>0.93</td>\n",
       "      <td>111</td>\n",
       "      <td>7.40</td>\n",
       "      <td>287</td>\n",
       "      <td>19.13</td>\n",
       "      <td>91.4</td>\n",
       "      <td>379</td>\n",
       "      <td>25.27</td>\n",
       "    </tr>\n",
       "    <tr>\n",
       "      <th>3</th>\n",
       "      <td>Max Sheppard</td>\n",
       "      <td>14</td>\n",
       "      <td>61</td>\n",
       "      <td>4.36</td>\n",
       "      <td>68</td>\n",
       "      <td>4.86</td>\n",
       "      <td>9</td>\n",
       "      <td>0.64</td>\n",
       "      <td>103</td>\n",
       "      <td>7.36</td>\n",
       "      <td>295</td>\n",
       "      <td>21.07</td>\n",
       "      <td>91.0</td>\n",
       "      <td>337</td>\n",
       "      <td>24.07</td>\n",
       "    </tr>\n",
       "    <tr>\n",
       "      <th>4</th>\n",
       "      <td>Eli Jaime</td>\n",
       "      <td>10</td>\n",
       "      <td>52</td>\n",
       "      <td>5.20</td>\n",
       "      <td>12</td>\n",
       "      <td>1.20</td>\n",
       "      <td>4</td>\n",
       "      <td>0.40</td>\n",
       "      <td>61</td>\n",
       "      <td>6.10</td>\n",
       "      <td>101</td>\n",
       "      <td>10.10</td>\n",
       "      <td>95.3</td>\n",
       "      <td>211</td>\n",
       "      <td>21.10</td>\n",
       "    </tr>\n",
       "  </tbody>\n",
       "</table>\n",
       "</div>"
      ],
      "text/plain": [
       "            Player   G  GLS   GPG  AST   APG  BLK   BPG  + / -  +/- PG  CMP  \\\n",
       "0  Quentin Bonnaud  12   83  6.92   15  1.25   14  1.17    101    8.42  208   \n",
       "1  Rowan McDonnell  13   67  5.15   51  3.92    5  0.38     92    7.08  408   \n",
       "2         Ben Jagt  15   67  4.47   64  4.27   14  0.93    111    7.40  287   \n",
       "3     Max Sheppard  14   61  4.36   68  4.86    9  0.64    103    7.36  295   \n",
       "4        Eli Jaime  10   52  5.20   12  1.20    4  0.40     61    6.10  101   \n",
       "\n",
       "     CPG  CMP %   PP    PPG  \n",
       "0  17.33   96.3  284  23.67  \n",
       "1  31.38   93.8  359  27.62  \n",
       "2  19.13   91.4  379  25.27  \n",
       "3  21.07   91.0  337  24.07  \n",
       "4  10.10   95.3  211  21.10  "
      ]
     },
     "execution_count": 5,
     "metadata": {},
     "output_type": "execute_result"
    }
   ],
   "source": [
    "player_stats = pd.read_csv(\"player_stats_data.csv\", index_col=0)\n",
    "player_stats.rename(columns={'PLAYER':'Player'}, inplace=True)\n",
    "player_stats.head()"
   ]
  },
  {
   "cell_type": "code",
   "execution_count": 6,
   "metadata": {},
   "outputs": [
    {
     "data": {
      "text/html": [
       "<div>\n",
       "<style scoped>\n",
       "    .dataframe tbody tr th:only-of-type {\n",
       "        vertical-align: middle;\n",
       "    }\n",
       "\n",
       "    .dataframe tbody tr th {\n",
       "        vertical-align: top;\n",
       "    }\n",
       "\n",
       "    .dataframe thead th {\n",
       "        text-align: right;\n",
       "    }\n",
       "</style>\n",
       "<table border=\"1\" class=\"dataframe\">\n",
       "  <thead>\n",
       "    <tr style=\"text-align: right;\">\n",
       "      <th></th>\n",
       "      <th>Team</th>\n",
       "      <th>G</th>\n",
       "      <th>W</th>\n",
       "      <th>L</th>\n",
       "      <th>T</th>\n",
       "      <th>PTS</th>\n",
       "      <th>PPG</th>\n",
       "      <th>PA</th>\n",
       "      <th>PAPG</th>\n",
       "      <th>OEFF</th>\n",
       "      <th>DEFF</th>\n",
       "      <th>+ / -</th>\n",
       "      <th>+/- PG</th>\n",
       "      <th>BLK</th>\n",
       "      <th>BPG</th>\n",
       "      <th>CMP</th>\n",
       "      <th>CPG</th>\n",
       "      <th>CMP %</th>\n",
       "      <th>TO</th>\n",
       "      <th>TPG</th>\n",
       "    </tr>\n",
       "  </thead>\n",
       "  <tbody>\n",
       "    <tr>\n",
       "      <th>0</th>\n",
       "      <td>New York Empire</td>\n",
       "      <td>15</td>\n",
       "      <td>15</td>\n",
       "      <td>0</td>\n",
       "      <td>0</td>\n",
       "      <td>334</td>\n",
       "      <td>22.27</td>\n",
       "      <td>282</td>\n",
       "      <td>18.80</td>\n",
       "      <td>0.48</td>\n",
       "      <td>-0.42</td>\n",
       "      <td>588</td>\n",
       "      <td>39.20</td>\n",
       "      <td>150</td>\n",
       "      <td>10.00</td>\n",
       "      <td>3,547</td>\n",
       "      <td>236.47</td>\n",
       "      <td>94.7</td>\n",
       "      <td>230</td>\n",
       "      <td>15.33</td>\n",
       "    </tr>\n",
       "    <tr>\n",
       "      <th>1</th>\n",
       "      <td>San Diego Growlers</td>\n",
       "      <td>14</td>\n",
       "      <td>11</td>\n",
       "      <td>3</td>\n",
       "      <td>0</td>\n",
       "      <td>328</td>\n",
       "      <td>23.43</td>\n",
       "      <td>292</td>\n",
       "      <td>20.86</td>\n",
       "      <td>0.46</td>\n",
       "      <td>-0.42</td>\n",
       "      <td>581</td>\n",
       "      <td>41.50</td>\n",
       "      <td>157</td>\n",
       "      <td>11.21</td>\n",
       "      <td>3,404</td>\n",
       "      <td>243.14</td>\n",
       "      <td>94.8</td>\n",
       "      <td>228</td>\n",
       "      <td>16.29</td>\n",
       "    </tr>\n",
       "    <tr>\n",
       "      <th>2</th>\n",
       "      <td>Raleigh Flyers</td>\n",
       "      <td>13</td>\n",
       "      <td>10</td>\n",
       "      <td>3</td>\n",
       "      <td>0</td>\n",
       "      <td>293</td>\n",
       "      <td>22.54</td>\n",
       "      <td>255</td>\n",
       "      <td>19.62</td>\n",
       "      <td>0.39</td>\n",
       "      <td>-0.36</td>\n",
       "      <td>514</td>\n",
       "      <td>39.54</td>\n",
       "      <td>124</td>\n",
       "      <td>9.54</td>\n",
       "      <td>3,197</td>\n",
       "      <td>245.92</td>\n",
       "      <td>95.0</td>\n",
       "      <td>192</td>\n",
       "      <td>14.77</td>\n",
       "    </tr>\n",
       "    <tr>\n",
       "      <th>3</th>\n",
       "      <td>Dallas Roughnecks</td>\n",
       "      <td>15</td>\n",
       "      <td>10</td>\n",
       "      <td>5</td>\n",
       "      <td>0</td>\n",
       "      <td>320</td>\n",
       "      <td>21.33</td>\n",
       "      <td>300</td>\n",
       "      <td>20.00</td>\n",
       "      <td>0.32</td>\n",
       "      <td>-0.41</td>\n",
       "      <td>550</td>\n",
       "      <td>36.67</td>\n",
       "      <td>202</td>\n",
       "      <td>13.47</td>\n",
       "      <td>3,640</td>\n",
       "      <td>242.67</td>\n",
       "      <td>93.7</td>\n",
       "      <td>290</td>\n",
       "      <td>19.33</td>\n",
       "    </tr>\n",
       "    <tr>\n",
       "      <th>4</th>\n",
       "      <td>Pittsburgh Thunderbirds</td>\n",
       "      <td>14</td>\n",
       "      <td>9</td>\n",
       "      <td>5</td>\n",
       "      <td>0</td>\n",
       "      <td>298</td>\n",
       "      <td>21.29</td>\n",
       "      <td>270</td>\n",
       "      <td>19.29</td>\n",
       "      <td>0.33</td>\n",
       "      <td>-0.41</td>\n",
       "      <td>487</td>\n",
       "      <td>34.79</td>\n",
       "      <td>141</td>\n",
       "      <td>10.07</td>\n",
       "      <td>3,551</td>\n",
       "      <td>253.64</td>\n",
       "      <td>94.5</td>\n",
       "      <td>249</td>\n",
       "      <td>17.79</td>\n",
       "    </tr>\n",
       "  </tbody>\n",
       "</table>\n",
       "</div>"
      ],
      "text/plain": [
       "                      Team   G   W  L  T  PTS    PPG   PA   PAPG  OEFF  DEFF  \\\n",
       "0          New York Empire  15  15  0  0  334  22.27  282  18.80  0.48 -0.42   \n",
       "1       San Diego Growlers  14  11  3  0  328  23.43  292  20.86  0.46 -0.42   \n",
       "2           Raleigh Flyers  13  10  3  0  293  22.54  255  19.62  0.39 -0.36   \n",
       "3        Dallas Roughnecks  15  10  5  0  320  21.33  300  20.00  0.32 -0.41   \n",
       "4  Pittsburgh Thunderbirds  14   9  5  0  298  21.29  270  19.29  0.33 -0.41   \n",
       "\n",
       "   + / -  +/- PG  BLK    BPG    CMP     CPG  CMP %   TO    TPG  \n",
       "0    588   39.20  150  10.00  3,547  236.47   94.7  230  15.33  \n",
       "1    581   41.50  157  11.21  3,404  243.14   94.8  228  16.29  \n",
       "2    514   39.54  124   9.54  3,197  245.92   95.0  192  14.77  \n",
       "3    550   36.67  202  13.47  3,640  242.67   93.7  290  19.33  \n",
       "4    487   34.79  141  10.07  3,551  253.64   94.5  249  17.79  "
      ]
     },
     "execution_count": 6,
     "metadata": {},
     "output_type": "execute_result"
    }
   ],
   "source": [
    "team_stats = pd.read_csv(\"team_stats.csv\", index_col=0)\n",
    "team_stats.head()"
   ]
  },
  {
   "cell_type": "code",
   "execution_count": 7,
   "metadata": {},
   "outputs": [
    {
     "data": {
      "text/html": [
       "<div>\n",
       "<style scoped>\n",
       "    .dataframe tbody tr th:only-of-type {\n",
       "        vertical-align: middle;\n",
       "    }\n",
       "\n",
       "    .dataframe tbody tr th {\n",
       "        vertical-align: top;\n",
       "    }\n",
       "\n",
       "    .dataframe thead th {\n",
       "        text-align: right;\n",
       "    }\n",
       "</style>\n",
       "<table border=\"1\" class=\"dataframe\">\n",
       "  <thead>\n",
       "    <tr style=\"text-align: right;\">\n",
       "      <th></th>\n",
       "      <th>Player</th>\n",
       "      <th>Team</th>\n",
       "    </tr>\n",
       "  </thead>\n",
       "  <tbody>\n",
       "    <tr>\n",
       "      <th>0</th>\n",
       "      <td>Sam Batson</td>\n",
       "      <td>hustle</td>\n",
       "    </tr>\n",
       "    <tr>\n",
       "      <th>1</th>\n",
       "      <td>Sun Choi</td>\n",
       "      <td>hustle</td>\n",
       "    </tr>\n",
       "    <tr>\n",
       "      <th>2</th>\n",
       "      <td>Karl Ekwurtzel</td>\n",
       "      <td>hustle</td>\n",
       "    </tr>\n",
       "    <tr>\n",
       "      <th>3</th>\n",
       "      <td>Brett Hulsmeyer</td>\n",
       "      <td>hustle</td>\n",
       "    </tr>\n",
       "    <tr>\n",
       "      <th>4</th>\n",
       "      <td>Elijah Jaime</td>\n",
       "      <td>hustle</td>\n",
       "    </tr>\n",
       "  </tbody>\n",
       "</table>\n",
       "</div>"
      ],
      "text/plain": [
       "            Player    Team\n",
       "0       Sam Batson  hustle\n",
       "1         Sun Choi  hustle\n",
       "2   Karl Ekwurtzel  hustle\n",
       "3  Brett Hulsmeyer  hustle\n",
       "4     Elijah Jaime  hustle"
      ]
     },
     "execution_count": 7,
     "metadata": {},
     "output_type": "execute_result"
    }
   ],
   "source": [
    "rosters = pd.read_csv(\"rosters.csv\", index_col=0)\n",
    "rosters.head()"
   ]
  },
  {
   "cell_type": "code",
   "execution_count": 8,
   "metadata": {},
   "outputs": [
    {
     "data": {
      "text/html": [
       "<div>\n",
       "<style scoped>\n",
       "    .dataframe tbody tr th:only-of-type {\n",
       "        vertical-align: middle;\n",
       "    }\n",
       "\n",
       "    .dataframe tbody tr th {\n",
       "        vertical-align: top;\n",
       "    }\n",
       "\n",
       "    .dataframe thead th {\n",
       "        text-align: right;\n",
       "    }\n",
       "</style>\n",
       "<table border=\"1\" class=\"dataframe\">\n",
       "  <thead>\n",
       "    <tr style=\"text-align: right;\">\n",
       "      <th></th>\n",
       "      <th>Player</th>\n",
       "      <th>Team</th>\n",
       "      <th>G</th>\n",
       "      <th>GLS</th>\n",
       "      <th>GPG</th>\n",
       "      <th>AST</th>\n",
       "      <th>APG</th>\n",
       "      <th>BLK</th>\n",
       "      <th>BPG</th>\n",
       "      <th>+ / -</th>\n",
       "      <th>+/- PG</th>\n",
       "      <th>CMP</th>\n",
       "      <th>CPG</th>\n",
       "      <th>CMP %</th>\n",
       "      <th>PP</th>\n",
       "      <th>PPG</th>\n",
       "    </tr>\n",
       "  </thead>\n",
       "  <tbody>\n",
       "    <tr>\n",
       "      <th>0</th>\n",
       "      <td>Sam Batson</td>\n",
       "      <td>hustle</td>\n",
       "      <td>8</td>\n",
       "      <td>0</td>\n",
       "      <td>0.00</td>\n",
       "      <td>4</td>\n",
       "      <td>0.50</td>\n",
       "      <td>3</td>\n",
       "      <td>0.38</td>\n",
       "      <td>4</td>\n",
       "      <td>0.50</td>\n",
       "      <td>24</td>\n",
       "      <td>3.00</td>\n",
       "      <td>88.9</td>\n",
       "      <td>67</td>\n",
       "      <td>8.38</td>\n",
       "    </tr>\n",
       "    <tr>\n",
       "      <th>1</th>\n",
       "      <td>Sun Choi</td>\n",
       "      <td>hustle</td>\n",
       "      <td>10</td>\n",
       "      <td>2</td>\n",
       "      <td>0.20</td>\n",
       "      <td>10</td>\n",
       "      <td>1.00</td>\n",
       "      <td>3</td>\n",
       "      <td>0.30</td>\n",
       "      <td>6</td>\n",
       "      <td>0.60</td>\n",
       "      <td>90</td>\n",
       "      <td>9.00</td>\n",
       "      <td>90.9</td>\n",
       "      <td>132</td>\n",
       "      <td>13.20</td>\n",
       "    </tr>\n",
       "    <tr>\n",
       "      <th>2</th>\n",
       "      <td>Karl Ekwurtzel</td>\n",
       "      <td>hustle</td>\n",
       "      <td>9</td>\n",
       "      <td>4</td>\n",
       "      <td>0.44</td>\n",
       "      <td>1</td>\n",
       "      <td>0.11</td>\n",
       "      <td>4</td>\n",
       "      <td>0.44</td>\n",
       "      <td>2</td>\n",
       "      <td>0.22</td>\n",
       "      <td>44</td>\n",
       "      <td>4.89</td>\n",
       "      <td>86.3</td>\n",
       "      <td>121</td>\n",
       "      <td>13.44</td>\n",
       "    </tr>\n",
       "    <tr>\n",
       "      <th>3</th>\n",
       "      <td>Brett Hulsmeyer</td>\n",
       "      <td>hustle</td>\n",
       "      <td>10</td>\n",
       "      <td>8</td>\n",
       "      <td>0.80</td>\n",
       "      <td>1</td>\n",
       "      <td>0.10</td>\n",
       "      <td>12</td>\n",
       "      <td>1.20</td>\n",
       "      <td>18</td>\n",
       "      <td>1.80</td>\n",
       "      <td>38</td>\n",
       "      <td>3.80</td>\n",
       "      <td>92.7</td>\n",
       "      <td>179</td>\n",
       "      <td>17.90</td>\n",
       "    </tr>\n",
       "    <tr>\n",
       "      <th>4</th>\n",
       "      <td>Matthew Knowles</td>\n",
       "      <td>hustle</td>\n",
       "      <td>7</td>\n",
       "      <td>0</td>\n",
       "      <td>0.00</td>\n",
       "      <td>13</td>\n",
       "      <td>1.86</td>\n",
       "      <td>0</td>\n",
       "      <td>0.00</td>\n",
       "      <td>7</td>\n",
       "      <td>1.00</td>\n",
       "      <td>117</td>\n",
       "      <td>16.71</td>\n",
       "      <td>95.1</td>\n",
       "      <td>108</td>\n",
       "      <td>15.43</td>\n",
       "    </tr>\n",
       "  </tbody>\n",
       "</table>\n",
       "</div>"
      ],
      "text/plain": [
       "            Player    Team   G  GLS   GPG  AST   APG  BLK   BPG  + / -  \\\n",
       "0       Sam Batson  hustle   8    0  0.00    4  0.50    3  0.38      4   \n",
       "1         Sun Choi  hustle  10    2  0.20   10  1.00    3  0.30      6   \n",
       "2   Karl Ekwurtzel  hustle   9    4  0.44    1  0.11    4  0.44      2   \n",
       "3  Brett Hulsmeyer  hustle  10    8  0.80    1  0.10   12  1.20     18   \n",
       "4  Matthew Knowles  hustle   7    0  0.00   13  1.86    0  0.00      7   \n",
       "\n",
       "   +/- PG  CMP    CPG  CMP %   PP    PPG  \n",
       "0    0.50   24   3.00   88.9   67   8.38  \n",
       "1    0.60   90   9.00   90.9  132  13.20  \n",
       "2    0.22   44   4.89   86.3  121  13.44  \n",
       "3    1.80   38   3.80   92.7  179  17.90  \n",
       "4    1.00  117  16.71   95.1  108  15.43  "
      ]
     },
     "execution_count": 8,
     "metadata": {},
     "output_type": "execute_result"
    }
   ],
   "source": [
    "data = rosters.merge(player_stats, left_on='Player', right_on='Player')\n",
    "data.head()"
   ]
  },
  {
   "cell_type": "code",
   "execution_count": 25,
   "metadata": {},
   "outputs": [],
   "source": [
    "from sklearn.linear_model import LinearRegression"
   ]
  },
  {
   "cell_type": "code",
   "execution_count": 26,
   "metadata": {},
   "outputs": [
    {
     "name": "stdout",
     "output_type": "stream",
     "text": [
      "0.08838979718625152\n"
     ]
    },
    {
     "data": {
      "image/png": "[encoded data removed]",
      "text/plain": [
       "<Figure size 432x288 with 1 Axes>"
      ]
     },
     "metadata": {},
     "output_type": "display_data"
    }
   ],
   "source": [
    "print(np.corrcoef(data['APG'], data['BPG'])[0][1])\n",
    "plt.scatter(data['APG'], data['BPG'])\n",
    "plt.show()"
   ]
  },
  {
   "cell_type": "code",
   "execution_count": 27,
   "metadata": {},
   "outputs": [
    {
     "name": "stdout",
     "output_type": "stream",
     "text": [
      "0.2642215002601914\n"
     ]
    },
    {
     "data": {
      "image/png": "[encoded data removed]",
      "text/plain": [
       "<Figure size 432x288 with 1 Axes>"
      ]
     },
     "metadata": {},
     "output_type": "display_data"
    }
   ],
   "source": [
    "print(np.corrcoef(data['AST'], data['BLK'])[0][1])\n",
    "plt.scatter(data['AST'], data['BLK'])\n",
    "plt.show()"
   ]
  },
  {
   "cell_type": "code",
   "execution_count": 34,
   "metadata": {},
   "outputs": [
    {
     "name": "stdout",
     "output_type": "stream",
     "text": [
      "assists and blocks 0.09659101733770603 3.5648955709435026\n"
     ]
    }
   ],
   "source": [
    "ast_blk_model = LinearRegression()\n",
    "ast_blk_model.fit(data[['AST']], data['BLK'])\n",
    "print('assists and blocks',ast_blk_model.coef_[0], ast_blk_model.intercept_)"
   ]
  },
  {
   "cell_type": "code",
   "execution_count": 35,
   "metadata": {},
   "outputs": [
    {
     "name": "stdout",
     "output_type": "stream",
     "text": [
      "assists per game and blocks per game 0.036209164911059875 0.4634594276894995\n"
     ]
    }
   ],
   "source": [
    "apg_bpg_model = LinearRegression()\n",
    "apg_bpg_model.fit(data[['APG']], data['BPG'])\n",
    "print('assists per game and blocks per game',apg_bpg_model.coef_[0], apg_bpg_model.intercept_)"
   ]
  },
  {
   "cell_type": "code",
   "execution_count": 30,
   "metadata": {},
   "outputs": [
    {
     "name": "stdout",
     "output_type": "stream",
     "text": [
      "0.1754601227787437\n"
     ]
    },
    {
     "data": {
      "image/png": "[encoded data removed]",
      "text/plain": [
       "<Figure size 432x288 with 1 Axes>"
      ]
     },
     "metadata": {},
     "output_type": "display_data"
    }
   ],
   "source": [
    "print(np.corrcoef(data['GPG'], data['BPG'])[0][1])\n",
    "plt.scatter(data['GPG'], data['BPG'])\n",
    "plt.show()"
   ]
  },
  {
   "cell_type": "code",
   "execution_count": 31,
   "metadata": {},
   "outputs": [
    {
     "name": "stdout",
     "output_type": "stream",
     "text": [
      "0.3223817657206969\n"
     ]
    },
    {
     "data": {
      "image/png": "[encoded data removed]",
      "text/plain": [
       "<Figure size 432x288 with 1 Axes>"
      ]
     },
     "metadata": {},
     "output_type": "display_data"
    }
   ],
   "source": [
    "print(np.corrcoef(data['GLS'], data['BLK'])[0][1])\n",
    "plt.scatter(data['GLS'], data['BLK'])\n",
    "plt.show()"
   ]
  },
  {
   "cell_type": "code",
   "execution_count": 32,
   "metadata": {},
   "outputs": [
    {
     "name": "stdout",
     "output_type": "stream",
     "text": [
      "0.08033502254022673 0.4208955126969992\n"
     ]
    }
   ],
   "source": [
    "gpg_bpg_model = LinearRegression()\n",
    "gpg_bpg_model.fit(data[['GPG']], data['BPG'])\n",
    "print('goals per game and blocks per game',gpg_bpg_model.coef_[0], gpg_bpg_model.intercept_)"
   ]
  },
  {
   "cell_type": "code",
   "execution_count": 37,
   "metadata": {},
   "outputs": [
    {
     "name": "stdout",
     "output_type": "stream",
     "text": [
      "goals and blocks 0.13313665559033958 3.2372740893173244\n"
     ]
    }
   ],
   "source": [
    "gls_blk_model = LinearRegression()\n",
    "gls_blk_model.fit(data[['GLS']], data['BLK'])\n",
    "print('goals and blocks',gls_blk_model.coef_[0], gls_blk_model.intercept_)"
   ]
  },
  {
   "cell_type": "code",
   "execution_count": 50,
   "metadata": {},
   "outputs": [],
   "source": [
    "filtered_data = data.loc[data['PP'] < 200]"
   ]
  },
  {
   "cell_type": "code",
   "execution_count": 51,
   "metadata": {},
   "outputs": [
    {
     "name": "stdout",
     "output_type": "stream",
     "text": [
      "goals and blocks with more than 50 points played 0.22677086872390628\n"
     ]
    },
    {
     "data": {
      "image/png": "[encoded data removed]",
      "text/plain": [
       "<Figure size 432x288 with 1 Axes>"
      ]
     },
     "metadata": {},
     "output_type": "display_data"
    },
    {
     "name": "stdout",
     "output_type": "stream",
     "text": [
      "assists and blocks with more than 50 points played 0.09995335433917836\n"
     ]
    },
    {
     "data": {
      "image/png": "[encoded data removed]",
      "text/plain": [
       "<Figure size 432x288 with 1 Axes>"
      ]
     },
     "metadata": {},
     "output_type": "display_data"
    }
   ],
   "source": [
    "print('goals and blocks with more than 50 points played',np.corrcoef(filtered_data['GLS'], filtered_data['BLK'])[0][1])\n",
    "plt.scatter(filtered_data['GLS'], filtered_data['BLK'])\n",
    "plt.show()\n",
    "print('assists and blocks with more than 50 points played',np.corrcoef(filtered_data['AST'], filtered_data['BLK'])[0][1])\n",
    "plt.scatter(filtered_data['AST'], filtered_data['BLK'])\n",
    "plt.show()"
   ]
  },
  {
   "cell_type": "code",
   "execution_count": null,
   "metadata": {},
   "outputs": [],
   "source": []
  }
 ],
 "metadata": {
  "kernelspec": {
   "display_name": "Python 3",
   "language": "python",
   "name": "python3"
  },
  "language_info": {
   "codemirror_mode": {
    "name": "ipython",
    "version": 3
   },
   "file_extension": ".py",
   "mimetype": "text/x-python",
   "name": "python",
   "nbconvert_exporter": "python",
   "pygments_lexer": "ipython3",
   "version": "3.6.8"
  }
 },
 "nbformat": 4,
 "nbformat_minor": 2
}
